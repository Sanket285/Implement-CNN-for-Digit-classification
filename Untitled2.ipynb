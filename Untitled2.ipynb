{
  "nbformat": 4,
  "nbformat_minor": 0,
  "metadata": {
    "colab": {
      "provenance": []
    },
    "kernelspec": {
      "name": "python3",
      "display_name": "Python 3"
    },
    "language_info": {
      "name": "python"
    }
  },
  "cells": [
    {
      "cell_type": "code",
      "execution_count": 1,
      "metadata": {
        "colab": {
          "base_uri": "https://localhost:8080/"
        },
        "id": "swHi0hgVUUgV",
        "outputId": "f31f8df3-c740-407f-8174-90231ccde1c1"
      },
      "outputs": [
        {
          "output_type": "stream",
          "name": "stdout",
          "text": [
            "Downloading data from https://storage.googleapis.com/tensorflow/tf-keras-datasets/mnist.npz\n",
            "\u001b[1m11490434/11490434\u001b[0m \u001b[32m━━━━━━━━━━━━━━━━━━━━\u001b[0m\u001b[37m\u001b[0m \u001b[1m0s\u001b[0m 0us/step\n"
          ]
        },
        {
          "output_type": "stream",
          "name": "stderr",
          "text": [
            "/usr/local/lib/python3.10/dist-packages/keras/src/layers/convolutional/base_conv.py:107: UserWarning: Do not pass an `input_shape`/`input_dim` argument to a layer. When using Sequential models, prefer using an `Input(shape)` object as the first layer in the model instead.\n",
            "  super().__init__(activity_regularizer=activity_regularizer, **kwargs)\n"
          ]
        },
        {
          "output_type": "stream",
          "name": "stdout",
          "text": [
            "Epoch 1/10\n",
            "375/375 - 57s - 151ms/step - accuracy: 0.8897 - loss: 0.3574 - val_accuracy: 0.9772 - val_loss: 0.0746\n",
            "Epoch 2/10\n",
            "375/375 - 65s - 174ms/step - accuracy: 0.9678 - loss: 0.1079 - val_accuracy: 0.9848 - val_loss: 0.0510\n",
            "Epoch 3/10\n",
            "375/375 - 43s - 114ms/step - accuracy: 0.9774 - loss: 0.0747 - val_accuracy: 0.9887 - val_loss: 0.0405\n",
            "Epoch 4/10\n",
            "375/375 - 40s - 107ms/step - accuracy: 0.9813 - loss: 0.0635 - val_accuracy: 0.9885 - val_loss: 0.0414\n",
            "Epoch 5/10\n",
            "375/375 - 41s - 109ms/step - accuracy: 0.9842 - loss: 0.0528 - val_accuracy: 0.9892 - val_loss: 0.0391\n",
            "Epoch 6/10\n",
            "375/375 - 41s - 108ms/step - accuracy: 0.9859 - loss: 0.0460 - val_accuracy: 0.9900 - val_loss: 0.0349\n",
            "Epoch 7/10\n",
            "375/375 - 39s - 104ms/step - accuracy: 0.9879 - loss: 0.0403 - val_accuracy: 0.9900 - val_loss: 0.0352\n",
            "Epoch 8/10\n",
            "375/375 - 39s - 105ms/step - accuracy: 0.9886 - loss: 0.0351 - val_accuracy: 0.9903 - val_loss: 0.0353\n",
            "Epoch 9/10\n",
            "375/375 - 42s - 112ms/step - accuracy: 0.9903 - loss: 0.0313 - val_accuracy: 0.9896 - val_loss: 0.0389\n",
            "Epoch 10/10\n",
            "375/375 - 42s - 112ms/step - accuracy: 0.9910 - loss: 0.0283 - val_accuracy: 0.9917 - val_loss: 0.0367\n",
            "313/313 - 3s - 8ms/step - accuracy: 0.9919 - loss: 0.0255\n",
            "Test Accuracy: 99.19%\n"
          ]
        }
      ],
      "source": [
        "# Import libraries\n",
        "import tensorflow as tf\n",
        "from tensorflow.keras.datasets import mnist\n",
        "from tensorflow.keras.models import Sequential\n",
        "from tensorflow.keras.layers import Conv2D, MaxPooling2D, Flatten, Dense, Dropout\n",
        "import numpy as np\n",
        "import matplotlib.pyplot as plt\n",
        "\n",
        "# Step 2: Load the MNIST dataset\n",
        "(x_train, y_train), (x_test, y_test) = mnist.load_data()\n",
        "\n",
        "# Step 3: Reshape the data\n",
        "x_train = x_train.reshape(-1, 28, 28, 1).astype('float32') / 255.0\n",
        "x_test = x_test.reshape(-1, 28, 28, 1).astype('float32') / 255.0\n",
        "\n",
        "# Convert labels to categorical format\n",
        "y_train = tf.keras.utils.to_categorical(y_train, 10)\n",
        "y_test = tf.keras.utils.to_categorical(y_test, 10)\n",
        "\n",
        "# Step 4: Define the CNN architecture\n",
        "model = Sequential([\n",
        "    Conv2D(32, kernel_size=(3, 3), activation='relu', input_shape=(28, 28, 1)),\n",
        "    MaxPooling2D(pool_size=(2, 2)),\n",
        "    Conv2D(64, kernel_size=(3, 3), activation='relu'),\n",
        "    MaxPooling2D(pool_size=(2, 2)),\n",
        "    Flatten(),\n",
        "    Dense(128, activation='relu'),\n",
        "    Dropout(0.5),\n",
        "    Dense(10, activation='softmax')  # 10 classes for digits 0-9\n",
        "])\n",
        "\n",
        "# Compile the model\n",
        "model.compile(optimizer='adam', loss='categorical_crossentropy', metrics=['accuracy'])\n",
        "\n",
        "# Step 5: Train the CNN\n",
        "history = model.fit(x_train, y_train, epochs=10, batch_size=128, validation_split=0.2, verbose=2)\n",
        "\n",
        "# Step 6: Evaluate the model\n",
        "test_loss, test_accuracy = model.evaluate(x_test, y_test, verbose=2)\n",
        "print(f\"Test Accuracy: {test_accuracy * 100:.2f}%\")\n",
        "\n",
        "# Step 7: Test with new handwritten digits\n",
        "def test_new_digit(image_path):\n",
        "    from PIL import Image\n",
        "    img = Image.open(image_path).convert('L')  # Convert to grayscale\n",
        "    img = img.resize((28, 28))  # Resize to 28x28\n",
        "    img_array = np.array(img).reshape(1, 28, 28, 1).astype('float32') / 255.0\n",
        "    prediction = np.argmax(model.predict(img_array), axis=1)\n",
        "    plt.imshow(img, cmap='gray')\n",
        "    plt.title(f\"Predicted Digit: {prediction[0]}\")\n",
        "    plt.show()\n",
        "\n",
        "# Test the model with a new image (provide the path to an image)\n",
        "# test_new_digit('path_to_digit_image.png')\n"
      ]
    }
  ]
}